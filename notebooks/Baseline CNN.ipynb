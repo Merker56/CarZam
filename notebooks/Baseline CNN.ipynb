{
 "cells": [
  {
   "cell_type": "code",
   "execution_count": 1,
   "metadata": {},
   "outputs": [],
   "source": [
    "import sys\n",
    "from matplotlib import pyplot\n",
    "from keras.utils import to_categorical\n",
    "from keras.models import Sequential\n",
    "from keras.layers import Conv2D\n",
    "from keras.layers import MaxPooling2D\n",
    "from keras.layers import Dense\n",
    "from keras.layers import Flatten\n",
    "from keras.optimizers import SGD\n",
    "from keras.preprocessing.image import ImageDataGenerator\n",
    "import PIL\n",
    "PIL.ImageFile.LOAD_TRUNCATED_IMAGES = True"
   ]
  },
  {
   "cell_type": "code",
   "execution_count": 2,
   "metadata": {},
   "outputs": [],
   "source": [
    "# create data generator\n",
    "train_data = ImageDataGenerator(rescale=1.0/255.0, validation_split = 0.3)"
   ]
  },
  {
   "cell_type": "code",
   "execution_count": 3,
   "metadata": {},
   "outputs": [
    {
     "name": "stdout",
     "output_type": "stream",
     "text": [
      "Found 16380 images belonging to 2 classes.\n",
      "Found 7019 images belonging to 2 classes.\n"
     ]
    }
   ],
   "source": [
    "# prepare iterators\n",
    "train_it = train_data.flow_from_directory('/home/ubuntu/sc/od', color_mode = 'rgb', seed = 123, class_mode='binary', batch_size=64, target_size=(224, 224), subset = 'training')\n",
    "test_it = train_data.flow_from_directory('/home/ubuntu/sc/od', color_mode = 'rgb', seed = 123, class_mode='binary', batch_size=64, target_size=(224, 224), subset = 'validation')"
   ]
  },
  {
   "cell_type": "code",
   "execution_count": 4,
   "metadata": {},
   "outputs": [],
   "source": [
    "# define cnn model\n",
    "# can adjust as needed\n",
    "def define_model():\n",
    "    model = Sequential()\n",
    "    model.add(Conv2D(32, (3, 3), activation='relu', kernel_initializer='he_uniform', padding='same', input_shape=(224, 224, 3)))\n",
    "    model.add(MaxPooling2D((2, 2)))\n",
    "    model.add(Flatten())\n",
    "    model.add(Dense(128, activation='relu', kernel_initializer='he_uniform'))\n",
    "    model.add(Dense(1, activation='sigmoid'))\n",
    "    # compile model\n",
    "    opt = SGD(lr=0.001, momentum=0.9)\n",
    "    model.compile(optimizer=opt, loss='binary_crossentropy', metrics=['accuracy'])\n",
    "    return model"
   ]
  },
  {
   "cell_type": "code",
   "execution_count": 8,
   "metadata": {},
   "outputs": [],
   "source": [
    "def define_3layer_model():\n",
    "    model = Sequential()\n",
    "    model.add(Conv2D(32, (3, 3), activation='relu', kernel_initializer='he_uniform', padding='same', input_shape=(224, 224, 3)))\n",
    "    model.add(MaxPooling2D((2, 2)))\n",
    "    model.add(Conv2D(64, (3, 3), activation='relu', kernel_initializer='he_uniform', padding='same'))\n",
    "    model.add(MaxPooling2D((2, 2)))\n",
    "\n",
    "    model.add(Conv2D(128, (3, 3), activation='relu', kernel_initializer='he_uniform', padding='same'))\n",
    "    model.add(MaxPooling2D((2, 2)))\n",
    "    model.add(Flatten())\n",
    "    model.add(Dense(128, activation='relu', kernel_initializer='he_uniform'))\n",
    "    model.add(Dense(1, activation='sigmoid'))\n",
    "    # compile model\n",
    "    opt = SGD(lr=0.001, momentum=0.9)\n",
    "    model.compile(optimizer=opt, loss='binary_crossentropy', metrics=['accuracy'])\n",
    "    return model"
   ]
  },
  {
   "cell_type": "code",
   "execution_count": null,
   "metadata": {},
   "outputs": [],
   "source": [
    "## Basic model\n",
    "# block 1\n",
    "model.add(Conv2D(32, (3, 3), activation='relu', kernel_initializer='he_uniform', padding='same', input_shape=(200, 200, 3)))\n",
    "model.add(MaxPooling2D((2, 2)))\n",
    "# block 2\n",
    "model.add(Conv2D(64, (3, 3), activation='relu', kernel_initializer='he_uniform', padding='same'))\n",
    "model.add(MaxPooling2D((2, 2)))\n",
    "# block 3\n",
    "model.add(Conv2D(128, (3, 3), activation='relu', kernel_initializer='he_uniform', padding='same'))\n",
    "model.add(MaxPooling2D((2, 2)))"
   ]
  },
  {
   "cell_type": "markdown",
   "metadata": {},
   "source": [
    "If you get a PIL error about being unable to read a file, you'll need to do:\n",
    "    \n",
    "    find . -size 0 -type f -delete \n",
    "on the directory to get rid of any 0 byte files\n",
    "\n",
    "If that fails, run this which will get rid of all non-jpeg image files.\n",
    "    \n",
    "    find . -type f -exec bash -c 'file -bi \"$1\" | grep -q image/jpeg || rm \"$1\"' none {} \\;"
   ]
  },
  {
   "cell_type": "code",
   "execution_count": 9,
   "metadata": {},
   "outputs": [
    {
     "name": "stdout",
     "output_type": "stream",
     "text": [
      "Epoch 1/20\n",
      "256/256 [==============================] - 673s 3s/step - loss: 0.4310 - accuracy: 0.7766 - val_loss: 0.3853 - val_accuracy: 0.8134\n",
      "Epoch 2/20\n",
      "256/256 [==============================] - 672s 3s/step - loss: 0.3431 - accuracy: 0.8258 - val_loss: 0.4027 - val_accuracy: 0.8218\n",
      "Epoch 3/20\n",
      "256/256 [==============================] - 672s 3s/step - loss: 0.3181 - accuracy: 0.8415 - val_loss: 0.3806 - val_accuracy: 0.7897\n",
      "Epoch 4/20\n",
      "256/256 [==============================] - 672s 3s/step - loss: 0.2970 - accuracy: 0.8563 - val_loss: 0.3793 - val_accuracy: 0.7933\n",
      "Epoch 5/20\n",
      "256/256 [==============================] - 672s 3s/step - loss: 0.2814 - accuracy: 0.8658 - val_loss: 0.3759 - val_accuracy: 0.7988\n",
      "Epoch 6/20\n",
      "256/256 [==============================] - 672s 3s/step - loss: 0.2605 - accuracy: 0.8816 - val_loss: 0.3856 - val_accuracy: 0.8216\n",
      "Epoch 7/20\n",
      "256/256 [==============================] - 672s 3s/step - loss: 0.2412 - accuracy: 0.8912 - val_loss: 0.3909 - val_accuracy: 0.7869\n",
      "Epoch 8/20\n",
      "256/256 [==============================] - 674s 3s/step - loss: 0.2143 - accuracy: 0.9071 - val_loss: 0.3825 - val_accuracy: 0.8070\n",
      "Epoch 9/20\n",
      "256/256 [==============================] - 673s 3s/step - loss: 0.1939 - accuracy: 0.9189 - val_loss: 0.3886 - val_accuracy: 0.8132\n",
      "Epoch 10/20\n",
      "256/256 [==============================] - 672s 3s/step - loss: 0.1626 - accuracy: 0.9368 - val_loss: 0.3991 - val_accuracy: 0.8132\n",
      "Epoch 11/20\n",
      "256/256 [==============================] - 673s 3s/step - loss: 0.1416 - accuracy: 0.9469 - val_loss: 0.4519 - val_accuracy: 0.8161\n",
      "Epoch 12/20\n",
      "256/256 [==============================] - 672s 3s/step - loss: 0.1222 - accuracy: 0.9568 - val_loss: 0.4331 - val_accuracy: 0.8195\n",
      "Epoch 13/20\n",
      "256/256 [==============================] - 673s 3s/step - loss: 0.0986 - accuracy: 0.9681 - val_loss: 0.4408 - val_accuracy: 0.8001\n",
      "Epoch 14/20\n",
      "256/256 [==============================] - 673s 3s/step - loss: 0.0798 - accuracy: 0.9770 - val_loss: 0.5239 - val_accuracy: 0.8193\n",
      "Epoch 15/20\n",
      "256/256 [==============================] - 674s 3s/step - loss: 0.0625 - accuracy: 0.9836 - val_loss: 0.4951 - val_accuracy: 0.8176\n",
      "Epoch 16/20\n",
      "256/256 [==============================] - 673s 3s/step - loss: 0.0483 - accuracy: 0.9899 - val_loss: 0.5125 - val_accuracy: 0.8109\n",
      "Epoch 17/20\n",
      "256/256 [==============================] - 674s 3s/step - loss: 0.0432 - accuracy: 0.9911 - val_loss: 0.5421 - val_accuracy: 0.7904\n",
      "Epoch 18/20\n",
      "256/256 [==============================] - 673s 3s/step - loss: 0.0361 - accuracy: 0.9934 - val_loss: 0.5959 - val_accuracy: 0.8223\n",
      "Epoch 19/20\n",
      "256/256 [==============================] - 673s 3s/step - loss: 0.0256 - accuracy: 0.9965 - val_loss: 0.6183 - val_accuracy: 0.7833\n",
      "Epoch 20/20\n",
      "256/256 [==============================] - 673s 3s/step - loss: 0.0232 - accuracy: 0.9968 - val_loss: 0.6530 - val_accuracy: 0.8208\n",
      "110/110 [==============================] - 83s 756ms/step - loss: 0.6530 - accuracy: 0.8208\n"
     ]
    }
   ],
   "source": [
    "# define model\n",
    "model = define_3layer_model()\n",
    "# fit model\n",
    "history = model.fit(train_it, steps_per_epoch=len(train_it), validation_data=test_it, validation_steps=len(test_it), epochs=20, verbose=1)\n",
    "# evaluate model\n",
    "_, acc = model.evaluate(test_it, steps=len(test_it), verbose=1)\n",
    "#print('> %.3f' % (acc * 100.0))"
   ]
  },
  {
   "cell_type": "code",
   "execution_count": 10,
   "metadata": {},
   "outputs": [
    {
     "data": {
      "text/plain": [
       "[<matplotlib.lines.Line2D at 0x7f9b3410edd8>]"
      ]
     },
     "execution_count": 10,
     "metadata": {},
     "output_type": "execute_result"
    },
    {
     "data": {
      "image/png": "[encoded data removed]",
      "text/plain": [
       "<Figure size 432x288 with 2 Axes>"
      ]
     },
     "metadata": {},
     "output_type": "display_data"
    }
   ],
   "source": [
    "# plot loss\n",
    "pyplot.subplot(211)\n",
    "pyplot.title('Cross Entropy Loss')\n",
    "pyplot.plot(history.history['loss'], color='blue', label='train')\n",
    "pyplot.plot(history.history['val_loss'], color='orange', label='test')\n",
    "# plot accuracy\n",
    "pyplot.subplot(212)\n",
    "pyplot.title('Classification Accuracy')\n",
    "pyplot.plot(history.history['accuracy'], color='blue', label='train')\n",
    "pyplot.plot(history.history['val_accuracy'], color='orange', label='test')\n",
    "# save plot to file\n",
    "#filename = sys.argv[0].split('/')[-1]\n",
    "#pyplot.savefig(filename + '_plot.png')\n",
    "#pyplot.close()"
   ]
  },
  {
   "cell_type": "code",
   "execution_count": null,
   "metadata": {},
   "outputs": [],
   "source": []
  }
 ],
 "metadata": {
  "kernelspec": {
   "display_name": "Python 3",
   "language": "python",
   "name": "python3"
  },
  "language_info": {
   "codemirror_mode": {
    "name": "ipython",
    "version": 3
   },
   "file_extension": ".py",
   "mimetype": "text/x-python",
   "name": "python",
   "nbconvert_exporter": "python",
   "pygments_lexer": "ipython3",
   "version": "3.6.9"
  }
 },
 "nbformat": 4,
 "nbformat_minor": 2
}

{
 "cells": [
  {
   "cell_type": "code",
   "execution_count": 44,
   "metadata": {},
   "outputs": [],
   "source": [
    "import pandas as pd\n",
    "import numpy as np\n",
    "import scipy.io as sp\n"
   ]
  },
  {
   "cell_type": "code",
   "execution_count": 6,
   "metadata": {},
   "outputs": [],
   "source": [
    "annots = sp.loadmat('devkit/cars_train_annos.mat')\n"
   ]
  },
  {
   "cell_type": "code",
   "execution_count": 7,
   "metadata": {},
   "outputs": [],
   "source": [
    "data = [[row.flat[0] for row in line] for line in annots['annotations'][0]]\n",
    "columns = ['bbox_x1', 'bbox_y1', 'bbox_x2', 'bbox_y2', 'class', 'fname']\n",
    "df_train = pd.DataFrame(data, columns=columns)"
   ]
  },
  {
   "cell_type": "code",
   "execution_count": 8,
   "metadata": {},
   "outputs": [
    {
     "data": {
      "text/html": [
       "<div>\n",
       "<style scoped>\n",
       "    .dataframe tbody tr th:only-of-type {\n",
       "        vertical-align: middle;\n",
       "    }\n",
       "\n",
       "    .dataframe tbody tr th {\n",
       "        vertical-align: top;\n",
       "    }\n",
       "\n",
       "    .dataframe thead th {\n",
       "        text-align: right;\n",
       "    }\n",
       "</style>\n",
       "<table border=\"1\" class=\"dataframe\">\n",
       "  <thead>\n",
       "    <tr style=\"text-align: right;\">\n",
       "      <th></th>\n",
       "      <th>bbox_x1</th>\n",
       "      <th>bbox_y1</th>\n",
       "      <th>bbox_x2</th>\n",
       "      <th>bbox_y2</th>\n",
       "      <th>class</th>\n",
       "      <th>fname</th>\n",
       "    </tr>\n",
       "  </thead>\n",
       "  <tbody>\n",
       "    <tr>\n",
       "      <th>0</th>\n",
       "      <td>39</td>\n",
       "      <td>116</td>\n",
       "      <td>569</td>\n",
       "      <td>375</td>\n",
       "      <td>14</td>\n",
       "      <td>00001.jpg</td>\n",
       "    </tr>\n",
       "    <tr>\n",
       "      <th>1</th>\n",
       "      <td>36</td>\n",
       "      <td>116</td>\n",
       "      <td>868</td>\n",
       "      <td>587</td>\n",
       "      <td>3</td>\n",
       "      <td>00002.jpg</td>\n",
       "    </tr>\n",
       "    <tr>\n",
       "      <th>2</th>\n",
       "      <td>85</td>\n",
       "      <td>109</td>\n",
       "      <td>601</td>\n",
       "      <td>381</td>\n",
       "      <td>91</td>\n",
       "      <td>00003.jpg</td>\n",
       "    </tr>\n",
       "    <tr>\n",
       "      <th>3</th>\n",
       "      <td>621</td>\n",
       "      <td>393</td>\n",
       "      <td>1484</td>\n",
       "      <td>1096</td>\n",
       "      <td>134</td>\n",
       "      <td>00004.jpg</td>\n",
       "    </tr>\n",
       "    <tr>\n",
       "      <th>4</th>\n",
       "      <td>14</td>\n",
       "      <td>36</td>\n",
       "      <td>133</td>\n",
       "      <td>99</td>\n",
       "      <td>106</td>\n",
       "      <td>00005.jpg</td>\n",
       "    </tr>\n",
       "  </tbody>\n",
       "</table>\n",
       "</div>"
      ],
      "text/plain": [
       "   bbox_x1  bbox_y1  bbox_x2  bbox_y2  class      fname\n",
       "0       39      116      569      375     14  00001.jpg\n",
       "1       36      116      868      587      3  00002.jpg\n",
       "2       85      109      601      381     91  00003.jpg\n",
       "3      621      393     1484     1096    134  00004.jpg\n",
       "4       14       36      133       99    106  00005.jpg"
      ]
     },
     "execution_count": 8,
     "metadata": {},
     "output_type": "execute_result"
    }
   ],
   "source": [
    "df_train.head()\n"
   ]
  },
  {
   "cell_type": "code",
   "execution_count": 9,
   "metadata": {},
   "outputs": [],
   "source": [
    "metadata = sp.loadmat('devkit/cars_meta.mat')\n",
    "metadata_data = [[row.flat[0] for row in line] for line in metadata['class_names'][0]]\n",
    "columns = ['class_name']\n",
    "meta_train = pd.DataFrame(metadata_data, columns=columns)"
   ]
  },
  {
   "cell_type": "code",
   "execution_count": 10,
   "metadata": {},
   "outputs": [
    {
     "data": {
      "text/html": [
       "<div>\n",
       "<style scoped>\n",
       "    .dataframe tbody tr th:only-of-type {\n",
       "        vertical-align: middle;\n",
       "    }\n",
       "\n",
       "    .dataframe tbody tr th {\n",
       "        vertical-align: top;\n",
       "    }\n",
       "\n",
       "    .dataframe thead th {\n",
       "        text-align: right;\n",
       "    }\n",
       "</style>\n",
       "<table border=\"1\" class=\"dataframe\">\n",
       "  <thead>\n",
       "    <tr style=\"text-align: right;\">\n",
       "      <th></th>\n",
       "      <th>class_name</th>\n",
       "    </tr>\n",
       "  </thead>\n",
       "  <tbody>\n",
       "    <tr>\n",
       "      <th>0</th>\n",
       "      <td>AM General Hummer SUV 2000</td>\n",
       "    </tr>\n",
       "    <tr>\n",
       "      <th>1</th>\n",
       "      <td>Acura RL Sedan 2012</td>\n",
       "    </tr>\n",
       "    <tr>\n",
       "      <th>2</th>\n",
       "      <td>Acura TL Sedan 2012</td>\n",
       "    </tr>\n",
       "    <tr>\n",
       "      <th>3</th>\n",
       "      <td>Acura TL Type-S 2008</td>\n",
       "    </tr>\n",
       "    <tr>\n",
       "      <th>4</th>\n",
       "      <td>Acura TSX Sedan 2012</td>\n",
       "    </tr>\n",
       "  </tbody>\n",
       "</table>\n",
       "</div>"
      ],
      "text/plain": [
       "                   class_name\n",
       "0  AM General Hummer SUV 2000\n",
       "1         Acura RL Sedan 2012\n",
       "2         Acura TL Sedan 2012\n",
       "3        Acura TL Type-S 2008\n",
       "4        Acura TSX Sedan 2012"
      ]
     },
     "execution_count": 10,
     "metadata": {},
     "output_type": "execute_result"
    }
   ],
   "source": [
    "meta_train.head()"
   ]
  },
  {
   "cell_type": "code",
   "execution_count": 11,
   "metadata": {},
   "outputs": [],
   "source": [
    "meta_train['class_name']\n",
    "make_of_class = meta_train['class_name'].str.split()\n",
    "make_labels = [row[0] for row in make_of_class]\n",
    "df_labels = pd.DataFrame(make_labels) "
   ]
  },
  {
   "cell_type": "code",
   "execution_count": 12,
   "metadata": {},
   "outputs": [
    {
     "data": {
      "text/html": [
       "<div>\n",
       "<style scoped>\n",
       "    .dataframe tbody tr th:only-of-type {\n",
       "        vertical-align: middle;\n",
       "    }\n",
       "\n",
       "    .dataframe tbody tr th {\n",
       "        vertical-align: top;\n",
       "    }\n",
       "\n",
       "    .dataframe thead th {\n",
       "        text-align: right;\n",
       "    }\n",
       "</style>\n",
       "<table border=\"1\" class=\"dataframe\">\n",
       "  <thead>\n",
       "    <tr style=\"text-align: right;\">\n",
       "      <th></th>\n",
       "      <th>0</th>\n",
       "    </tr>\n",
       "  </thead>\n",
       "  <tbody>\n",
       "    <tr>\n",
       "      <th>0</th>\n",
       "      <td>AM</td>\n",
       "    </tr>\n",
       "    <tr>\n",
       "      <th>1</th>\n",
       "      <td>Acura</td>\n",
       "    </tr>\n",
       "    <tr>\n",
       "      <th>2</th>\n",
       "      <td>Acura</td>\n",
       "    </tr>\n",
       "    <tr>\n",
       "      <th>3</th>\n",
       "      <td>Acura</td>\n",
       "    </tr>\n",
       "    <tr>\n",
       "      <th>4</th>\n",
       "      <td>Acura</td>\n",
       "    </tr>\n",
       "  </tbody>\n",
       "</table>\n",
       "</div>"
      ],
      "text/plain": [
       "       0\n",
       "0     AM\n",
       "1  Acura\n",
       "2  Acura\n",
       "3  Acura\n",
       "4  Acura"
      ]
     },
     "execution_count": 12,
     "metadata": {},
     "output_type": "execute_result"
    }
   ],
   "source": [
    "df_labels.head()"
   ]
  },
  {
   "cell_type": "code",
   "execution_count": 13,
   "metadata": {},
   "outputs": [],
   "source": [
    "unique_makes = set(make_labels)"
   ]
  },
  {
   "cell_type": "code",
   "execution_count": 26,
   "metadata": {},
   "outputs": [
    {
     "name": "stdout",
     "output_type": "stream",
     "text": [
      "{'Porsche': 0, 'McLaren': 0, 'AM': 0, 'Mazda': 0, 'BMW': 0, 'Chevrolet': 0, 'Fisker': 0, 'Mitsubishi': 0, 'Bentley': 0, 'Scion': 0, 'Hyundai': 0, 'Honda': 0, 'smart': 0, 'Mercedes-Benz': 0, 'Land': 0, 'MINI': 0, 'HUMMER': 0, 'Volkswagen': 0, 'GMC': 0, 'Eagle': 0, 'Jeep': 0, 'Suzuki': 0, 'Geo': 0, 'Daewoo': 0, 'FIAT': 0, 'Bugatti': 0, 'Plymouth': 0, 'Acura': 0, 'Volvo': 0, 'Chrysler': 0, 'Rolls-Royce': 0, 'Dodge': 0, 'Maybach': 0, 'Spyker': 0, 'Ferrari': 0, 'Tesla': 0, 'Jaguar': 0, 'Isuzu': 0, 'Nissan': 0, 'Infiniti': 0, 'Audi': 0, 'Buick': 0, 'Toyota': 0, 'Cadillac': 0, 'Lincoln': 0, 'Ram': 0, 'Lamborghini': 0, 'Aston': 0, 'Ford': 0}\n"
     ]
    }
   ],
   "source": [
    "\n",
    "make_count = dict.fromkeys(unique_makes, 0)\n",
    "print (make_count)"
   ]
  },
  {
   "cell_type": "code",
   "execution_count": 33,
   "metadata": {},
   "outputs": [
    {
     "name": "stdout",
     "output_type": "stream",
     "text": [
      "AM\n"
     ]
    }
   ],
   "source": [
    "print (df_labels[0][0])\n"
   ]
  },
  {
   "cell_type": "code",
   "execution_count": 40,
   "metadata": {},
   "outputs": [],
   "source": [
    "for i in range(0,8144):\n",
    "    make_index = df_train['class'][i]\n",
    "    make_name = df_labels[0][make_index-1]\n",
    "    make_count[make_name] += 1\n",
    "    \n",
    "    "
   ]
  },
  {
   "cell_type": "code",
   "execution_count": 41,
   "metadata": {},
   "outputs": [
    {
     "data": {
      "text/plain": [
       "{'Porsche': 48,\n",
       " 'McLaren': 44,\n",
       " 'AM': 45,\n",
       " 'Mazda': 36,\n",
       " 'BMW': 560,\n",
       " 'Chevrolet': 985,\n",
       " 'Fisker': 49,\n",
       " 'Mitsubishi': 49,\n",
       " 'Bentley': 277,\n",
       " 'Scion': 50,\n",
       " 'Hyundai': 489,\n",
       " 'Honda': 171,\n",
       " 'smart': 45,\n",
       " 'Mercedes-Benz': 284,\n",
       " 'Land': 92,\n",
       " 'MINI': 39,\n",
       " 'HUMMER': 94,\n",
       " 'Volkswagen': 151,\n",
       " 'GMC': 261,\n",
       " 'Eagle': 53,\n",
       " 'Jeep': 234,\n",
       " 'Suzuki': 180,\n",
       " 'Geo': 55,\n",
       " 'Daewoo': 45,\n",
       " 'FIAT': 64,\n",
       " 'Bugatti': 84,\n",
       " 'Plymouth': 49,\n",
       " 'Acura': 258,\n",
       " 'Volvo': 157,\n",
       " 'Chrysler': 276,\n",
       " 'Rolls-Royce': 128,\n",
       " 'Dodge': 682,\n",
       " 'Maybach': 29,\n",
       " 'Spyker': 95,\n",
       " 'Ferrari': 168,\n",
       " 'Tesla': 45,\n",
       " 'Jaguar': 53,\n",
       " 'Isuzu': 45,\n",
       " 'Nissan': 182,\n",
       " 'Infiniti': 71,\n",
       " 'Audi': 642,\n",
       " 'Buick': 172,\n",
       " 'Toyota': 190,\n",
       " 'Cadillac': 138,\n",
       " 'Lincoln': 45,\n",
       " 'Ram': 47,\n",
       " 'Lamborghini': 165,\n",
       " 'Aston': 174,\n",
       " 'Ford': 584}"
      ]
     },
     "execution_count": 41,
     "metadata": {},
     "output_type": "execute_result"
    }
   ],
   "source": [
    "make_count"
   ]
  },
  {
   "cell_type": "code",
   "execution_count": 62,
   "metadata": {},
   "outputs": [
    {
     "data": {
      "text/plain": [
       "<BarContainer object of 49 artists>"
      ]
     },
     "execution_count": 62,
     "metadata": {},
     "output_type": "execute_result"
    },
    {
     "data": {
      "image/png": "[encoded data removed]",
      "text/plain": [
       "<Figure size 1440x720 with 1 Axes>"
      ]
     },
     "metadata": {
      "needs_background": "light"
     },
     "output_type": "display_data"
    }
   ],
   "source": [
    "import matplotlib.pyplot as plt\n",
    "\n",
    "\n",
    "plt.figure(figsize=(20,10))\n",
    "plt.xticks(rotation='vertical')\n",
    "plt.bar(make_count.keys(), make_count.values(), 1, color='r')"
   ]
  },
  {
   "cell_type": "code",
   "execution_count": 55,
   "metadata": {},
   "outputs": [],
   "source": [
    "top_five = [\"Chevrolet\", \"Ford\", \"Toyota\", \"Honda\", \"Mercedes-Benz\"]\n",
    "make_count_5 = {k: v for k, v in make_count.items() if k in top_five}"
   ]
  },
  {
   "cell_type": "code",
   "execution_count": 77,
   "metadata": {},
   "outputs": [
    {
     "data": {
      "text/plain": [
       "<BarContainer object of 5 artists>"
      ]
     },
     "execution_count": 77,
     "metadata": {},
     "output_type": "execute_result"
    },
    {
     "data": {
      "image/png": "[encoded data removed]",
      "text/plain": [
       "<Figure size 360x360 with 1 Axes>"
      ]
     },
     "metadata": {
      "needs_background": "light"
     },
     "output_type": "display_data"
    }
   ],
   "source": [
    "plt.figure(figsize=(5,5))\n",
    "plt.xticks(rotation='vertical')\n",
    "plt.bar(make_count_5.keys(), make_count_5.values(), 0.75, color='r')\n"
   ]
  },
  {
   "cell_type": "code",
   "execution_count": 78,
   "metadata": {},
   "outputs": [
    {
     "data": {
      "text/plain": [
       "dict_values([985, 171, 284, 190, 584])"
      ]
     },
     "execution_count": 78,
     "metadata": {},
     "output_type": "execute_result"
    }
   ],
   "source": [
    "make_count_5.values()"
   ]
  },
  {
   "cell_type": "code",
   "execution_count": 82,
   "metadata": {},
   "outputs": [
    {
     "data": {
      "text/html": [
       "<div>\n",
       "<style scoped>\n",
       "    .dataframe tbody tr th:only-of-type {\n",
       "        vertical-align: middle;\n",
       "    }\n",
       "\n",
       "    .dataframe tbody tr th {\n",
       "        vertical-align: top;\n",
       "    }\n",
       "\n",
       "    .dataframe thead th {\n",
       "        text-align: right;\n",
       "    }\n",
       "</style>\n",
       "<table border=\"1\" class=\"dataframe\">\n",
       "  <thead>\n",
       "    <tr style=\"text-align: right;\">\n",
       "      <th></th>\n",
       "      <th>class_name</th>\n",
       "    </tr>\n",
       "  </thead>\n",
       "  <tbody>\n",
       "    <tr>\n",
       "      <th>55</th>\n",
       "      <td>Chevrolet Corvette ZR1 2012</td>\n",
       "    </tr>\n",
       "    <tr>\n",
       "      <th>56</th>\n",
       "      <td>Chevrolet Corvette Ron Fellows Edition Z06 2007</td>\n",
       "    </tr>\n",
       "    <tr>\n",
       "      <th>57</th>\n",
       "      <td>Chevrolet Traverse SUV 2012</td>\n",
       "    </tr>\n",
       "    <tr>\n",
       "      <th>58</th>\n",
       "      <td>Chevrolet Camaro Convertible 2012</td>\n",
       "    </tr>\n",
       "    <tr>\n",
       "      <th>59</th>\n",
       "      <td>Chevrolet HHR SS 2010</td>\n",
       "    </tr>\n",
       "    <tr>\n",
       "      <th>60</th>\n",
       "      <td>Chevrolet Impala Sedan 2007</td>\n",
       "    </tr>\n",
       "    <tr>\n",
       "      <th>61</th>\n",
       "      <td>Chevrolet Tahoe Hybrid SUV 2012</td>\n",
       "    </tr>\n",
       "    <tr>\n",
       "      <th>62</th>\n",
       "      <td>Chevrolet Sonic Sedan 2012</td>\n",
       "    </tr>\n",
       "    <tr>\n",
       "      <th>63</th>\n",
       "      <td>Chevrolet Express Cargo Van 2007</td>\n",
       "    </tr>\n",
       "    <tr>\n",
       "      <th>64</th>\n",
       "      <td>Chevrolet Avalanche Crew Cab 2012</td>\n",
       "    </tr>\n",
       "    <tr>\n",
       "      <th>65</th>\n",
       "      <td>Chevrolet Cobalt SS 2010</td>\n",
       "    </tr>\n",
       "    <tr>\n",
       "      <th>66</th>\n",
       "      <td>Chevrolet Malibu Hybrid Sedan 2010</td>\n",
       "    </tr>\n",
       "    <tr>\n",
       "      <th>67</th>\n",
       "      <td>Chevrolet TrailBlazer SS 2009</td>\n",
       "    </tr>\n",
       "    <tr>\n",
       "      <th>68</th>\n",
       "      <td>Chevrolet Silverado 2500HD Regular Cab 2012</td>\n",
       "    </tr>\n",
       "    <tr>\n",
       "      <th>69</th>\n",
       "      <td>Chevrolet Silverado 1500 Classic Extended Cab ...</td>\n",
       "    </tr>\n",
       "  </tbody>\n",
       "</table>\n",
       "</div>"
      ],
      "text/plain": [
       "                                           class_name\n",
       "55                        Chevrolet Corvette ZR1 2012\n",
       "56    Chevrolet Corvette Ron Fellows Edition Z06 2007\n",
       "57                        Chevrolet Traverse SUV 2012\n",
       "58                  Chevrolet Camaro Convertible 2012\n",
       "59                              Chevrolet HHR SS 2010\n",
       "60                        Chevrolet Impala Sedan 2007\n",
       "61                    Chevrolet Tahoe Hybrid SUV 2012\n",
       "62                         Chevrolet Sonic Sedan 2012\n",
       "63                   Chevrolet Express Cargo Van 2007\n",
       "64                  Chevrolet Avalanche Crew Cab 2012\n",
       "65                           Chevrolet Cobalt SS 2010\n",
       "66                 Chevrolet Malibu Hybrid Sedan 2010\n",
       "67                      Chevrolet TrailBlazer SS 2009\n",
       "68        Chevrolet Silverado 2500HD Regular Cab 2012\n",
       "69  Chevrolet Silverado 1500 Classic Extended Cab ..."
      ]
     },
     "execution_count": 82,
     "metadata": {},
     "output_type": "execute_result"
    }
   ],
   "source": [
    "meta_train[55:70]"
   ]
  },
  {
   "cell_type": "code",
   "execution_count": 83,
   "metadata": {},
   "outputs": [
    {
     "data": {
      "text/plain": [
       "49"
      ]
     },
     "execution_count": 83,
     "metadata": {},
     "output_type": "execute_result"
    }
   ],
   "source": [
    "len(unique_makes)"
   ]
  },
  {
   "cell_type": "code",
   "execution_count": 84,
   "metadata": {},
   "outputs": [
    {
     "data": {
      "text/plain": [
       "196"
      ]
     },
     "execution_count": 84,
     "metadata": {},
     "output_type": "execute_result"
    }
   ],
   "source": [
    "len(make_labels)"
   ]
  },
  {
   "cell_type": "code",
   "execution_count": null,
   "metadata": {},
   "outputs": [],
   "source": []
  }
 ],
 "metadata": {
  "kernelspec": {
   "display_name": "Python 3",
   "language": "python",
   "name": "python3"
  },
  "language_info": {
   "codemirror_mode": {
    "name": "ipython",
    "version": 3
   },
   "file_extension": ".py",
   "mimetype": "text/x-python",
   "name": "python",
   "nbconvert_exporter": "python",
   "pygments_lexer": "ipython3",
   "version": "3.7.6"
  }
 },
 "nbformat": 4,
 "nbformat_minor": 4
}
